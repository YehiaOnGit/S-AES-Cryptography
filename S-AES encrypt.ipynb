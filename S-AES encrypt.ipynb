{
  "cells": [
    {
      "cell_type": "markdown",
      "id": "427ba7e9",
      "metadata": {
        "id": "427ba7e9"
      },
      "source": [
        "# parameters"
      ]
    },
    {
      "cell_type": "code",
      "execution_count": 7,
      "id": "936ab158",
      "metadata": {
        "id": "936ab158",
        "colab": {
          "base_uri": "https://localhost:8080/"
        },
        "outputId": "c2a4b6a6-9143-4716-b174-a100a03f2bad"
      },
      "outputs": [
        {
          "name": "stdout",
          "output_type": "stream",
          "text": [
            "Please enter your text: 1101011100101000\n",
            "Please enter your key: 0100101011110101\n"
          ]
        }
      ],
      "source": [
        "#to be taken as input later (pln and ky shld be #16 bit) \n",
        "#plaintxt='1101011100101000' \n",
        "#key='0100101011110101'\n",
        "plaintxt = input(\"Please enter your text: \")\n",
        "key = input(\"Please enter your key: \")\n"
      ]
    },
    {
      "cell_type": "markdown",
      "id": "4381e5e1",
      "metadata": {
        "id": "4381e5e1"
      },
      "source": [
        "# constants"
      ]
    },
    {
      "cell_type": "code",
      "execution_count": 8,
      "id": "a5ae5059",
      "metadata": {
        "id": "a5ae5059"
      },
      "outputs": [],
      "source": [
        "#constants\n",
        "#1st and 3rd col rprsnt nib and aftr each one rprsnt crsspndng sub (if fwnd the nib go to nxt col same row to find its sub)\n",
        "subnibTBL = [\n",
        "    [\"0000\", \"1001\", \"1000\", \"0110\"],\n",
        "    [\"0001\", \"0100\", \"1001\", \"0010\"],\n",
        "    [\"0010\", \"1010\", \"1010\", \"0000\"],\n",
        "    [\"0011\", \"1011\", \"1011\", \"0011\"],\n",
        "    [\"0100\", \"1101\", \"1100\", \"1100\"],\n",
        "    [\"0101\", \"0001\", \"1101\", \"1110\"],\n",
        "    [\"0110\", \"1000\", \"1110\", \"1111\"],\n",
        "    [\"0111\", \"0101\", \"1111\", \"0111\"]\n",
        "]\n",
        "\n",
        "\n",
        "mult_table = [\n",
        "    [\"1\", \"2\", \"3\", \"4\", \"5\", \"6\", \"7\", \"8\", \"9\", \"a\", \"b\", \"c\", \"d\", \"e\", \"f\"],\n",
        "    [\"2\", \"4\", \"6\", \"8\", \"a\", \"c\", \"e\", \"3\", \"1\", \"7\", \"5\", \"b\", \"9\", \"f\", \"d\"],\n",
        "    [\"3\", \"6\", \"5\", \"c\", \"f\", \"a\", \"9\", \"b\", \"8\", \"d\", \"e\", \"7\", \"4\", \"1\", \"2\"],\n",
        "    [\"4\", \"8\", \"c\", \"3\", \"7\", \"b\", \"f\", \"6\", \"2\", \"e\", \"a\", \"5\", \"1\", \"d\", \"9\"],\n",
        "    [\"5\", \"a\", \"f\", \"7\", \"2\", \"d\", \"8\", \"e\", \"b\", \"4\", \"1\", \"9\", \"c\", \"3\", \"6\"],\n",
        "    [\"6\", \"c\", \"a\", \"b\", \"d\", \"7\", \"1\", \"5\", \"3\", \"9\", \"f\", \"e\", \"8\", \"2\", \"4\"],\n",
        "    [\"7\", \"e\", \"9\", \"f\", \"8\", \"1\", \"6\", \"d\", \"a\", \"3\", \"4\", \"2\", \"5\", \"c\", \"b\"],\n",
        "    [\"8\", \"3\", \"b\", \"6\", \"e\", \"5\", \"d\", \"c\", \"4\", \"f\", \"7\", \"a\", \"2\", \"9\", \"1\"],\n",
        "    [\"9\", \"1\", \"8\", \"2\", \"b\", \"3\", \"a\", \"4\", \"d\", \"5\", \"c\", \"6\", \"f\", \"7\", \"e\"],\n",
        "    [\"a\", \"7\", \"d\", \"e\", \"4\", \"9\", \"3\", \"f\", \"5\", \"8\", \"2\", \"1\", \"b\", \"6\", \"c\"],\n",
        "    [\"b\", \"5\", \"e\", \"a\", \"1\", \"f\", \"4\", \"7\", \"c\", \"2\", \"9\", \"d\", \"6\", \"8\", \"3\"],\n",
        "    [\"c\", \"b\", \"7\", \"5\", \"9\", \"e\", \"2\", \"a\", \"6\", \"1\", \"d\", \"f\", \"3\", \"4\", \"8\"],\n",
        "    [\"d\", \"9\", \"4\", \"1\", \"c\", \"8\", \"5\", \"2\", \"f\", \"b\", \"6\", \"3\", \"e\", \"a\", \"7\"],\n",
        "    [\"e\", \"f\", \"1\", \"d\", \"3\", \"2\", \"c\", \"9\", \"7\", \"6\", \"8\", \"4\", \"a\", \"b\", \"5\"],\n",
        "    [\"f\", \"d\", \"2\", \"9\", \"6\", \"4\", \"b\", \"1\", \"e\", \"c\", \"3\", \"8\", \"7\", \"5\", \"a\"]\n",
        "]\n",
        "\n",
        "\n",
        "add_table = [\n",
        "    [\"0\", \"1\", \"2\", \"3\", \"4\", \"5\", \"6\", \"7\", \"8\", \"9\", \"a\", \"b\", \"c\", \"d\", \"e\", \"f\"],\n",
        "    [\"1\", \"0\", \"3\", \"2\", \"5\", \"4\", \"7\", \"6\", \"9\", \"8\", \"b\", \"a\", \"d\", \"c\", \"f\", \"e\"],\n",
        "    [\"2\", \"3\", \"0\", \"1\", \"6\", \"7\", \"4\", \"5\", \"a\", \"b\", \"8\", \"9\", \"e\", \"f\", \"c\", \"d\"],\n",
        "    [\"3\", \"2\", \"1\", \"0\", \"7\", \"6\", \"5\", \"4\", \"b\", \"a\", \"9\", \"8\", \"f\", \"e\", \"d\", \"c\"],\n",
        "    [\"4\", \"5\", \"6\", \"7\", \"0\", \"1\", \"2\", \"3\", \"c\", \"d\", \"e\", \"f\", \"8\", \"9\", \"a\", \"b\"],\n",
        "    [\"5\", \"4\", \"7\", \"6\", \"1\", \"0\", \"3\", \"2\", \"d\", \"c\", \"f\", \"e\", \"9\", \"8\", \"b\", \"a\"],\n",
        "    [\"6\", \"7\", \"4\", \"5\", \"2\", \"3\", \"0\", \"1\", \"e\", \"f\", \"c\", \"d\", \"a\", \"b\", \"8\", \"9\"],\n",
        "    [\"7\", \"6\", \"5\", \"4\", \"3\", \"2\", \"1\", \"0\", \"f\", \"e\", \"d\", \"c\", \"b\", \"a\", \"9\", \"8\"],\n",
        "    [\"8\", \"9\", \"a\", \"b\", \"c\", \"d\", \"e\", \"f\", \"0\", \"1\", \"2\", \"3\", \"4\", \"5\", \"6\", \"7\"],\n",
        "    [\"9\", \"8\", \"b\", \"a\", \"d\", \"c\", \"f\", \"e\", \"1\", \"0\", \"3\", \"2\", \"5\", \"4\", \"7\", \"6\"],\n",
        "    [\"a\", \"b\", \"8\", \"9\", \"e\", \"f\", \"c\", \"d\", \"2\", \"3\", \"0\", \"1\", \"6\", \"7\", \"4\", \"5\"],\n",
        "    [\"b\", \"a\", \"9\", \"8\", \"f\", \"e\", \"d\", \"c\", \"3\", \"2\", \"1\", \"0\", \"7\", \"6\", \"5\", \"4\"],\n",
        "    [\"c\", \"d\", \"e\", \"f\", \"8\", \"9\", \"a\", \"b\", \"4\", \"5\", \"6\", \"7\", \"0\", \"1\", \"2\", \"3\"],\n",
        "    [\"d\", \"c\", \"f\", \"e\", \"9\", \"8\", \"b\", \"a\", \"5\", \"4\", \"7\", \"6\", \"1\", \"0\", \"3\", \"2\"],\n",
        "    [\"e\", \"f\", \"c\", \"d\", \"a\", \"b\", \"8\", \"9\", \"6\", \"7\", \"4\", \"5\", \"2\", \"3\", \"0\", \"1\"],\n",
        "    [\"f\", \"e\", \"d\", \"c\", \"b\", \"a\", \"9\", \"8\", \"7\", \"6\", \"5\", \"4\", \"3\", \"2\", \"1\", \"0\"]\n",
        "]\n",
        "\n",
        "M =[\n",
        "    [\"0001\",\"0100\"],\n",
        "    [\"0100\",\"0001\"]\n",
        "]"
      ]
    },
    {
      "cell_type": "markdown",
      "id": "96a4f05d",
      "metadata": {
        "id": "96a4f05d"
      },
      "source": [
        "# key generation\n",
        "shld gnrt 3 sub keys by 5 ws"
      ]
    },
    {
      "cell_type": "code",
      "execution_count": 9,
      "id": "dc38bfda",
      "metadata": {
        "colab": {
          "base_uri": "https://localhost:8080/"
        },
        "id": "dc38bfda",
        "outputId": "127c3ae2-7553-4f05-b1d0-305a13bbed82"
      },
      "outputs": [
        {
          "output_type": "stream",
          "name": "stdout",
          "text": [
            "Rotated w1: 01011111\n",
            "Found frsthlf 0101 at (5, 0)\n",
            "Found scndhlf 1111 at (7, 2)\n",
            "sub rot nib equals 00010111\n",
            "w2 eqwals: 11011101\n",
            "w3 eqwals: 00101000\n",
            "Found frsthlf 1000 at (0, 2)\n",
            "Found scndhlf 0010 at (2, 0)\n",
            "conctnttd_sub rttd w3 01101010 at (7, 2)\n",
            "w5 eqwals: 10101111\n",
            "k0 eqwals 0100101011110101 \n",
            "k1 eqwals 1101110100101000 \n",
            "k2 eqwals 1000011110101111 \n"
          ]
        }
      ],
      "source": [
        "\n",
        "w2midconst='10000000' #8bits\n",
        "w4midconst='00110000'\n",
        "\n",
        "\n",
        "\n",
        "\n",
        "#w0 = frst hlf of the key & w1 = scnd hlf of key\n",
        "w0 = key[:len(key)//2]\n",
        "w1 = key[len(key)//2:]\n",
        "################################################################################################## w0,w1^\n",
        "\n",
        "#w2=w0 xor w2midconst xor subnib(rotnib (w1)\n",
        "\n",
        "# Rotate 4 bits of w1\n",
        "rotated_W1 = ((int(w1, 2) << 4) | (int(w1, 2) >> 4)) & 0b11111111\n",
        "print('Rotated w1:', format(rotated_W1, '08b'))\n",
        "\n",
        "\n",
        "# Extract first and second halves of rotated_W1 to srch in sub tbl & subtt by crspndng \n",
        "rotated_W1_binary = format(rotated_W1, '08b')\n",
        "first_half = rotated_W1_binary[:4]\n",
        "second_half = rotated_W1_binary[4:]\n",
        "\n",
        "\n",
        "\n",
        "#search for the halfs in subtbl\n",
        "search_val1=first_half\n",
        "search_val2=second_half\n",
        "for row in range(len(subnibTBL)):\n",
        "    for col in [0, 2]:\n",
        "        if subnibTBL[row][col] == search_val1:\n",
        "            sr=row\n",
        "            sc=col\n",
        "            print(f\"Found frsthlf {search_val1} at ({row}, {col})\")\n",
        "            subt1=subnibTBL[sr][sc+1] \n",
        "        if subnibTBL[row][col] == search_val2:\n",
        "            sr=row\n",
        "            sc=col\n",
        "            print(f\"Found scndhlf {search_val2} at ({row}, {col})\")   \n",
        "            subt2=subnibTBL[sr][sc+1] \n",
        "\n",
        "#subnib(rotnib (w1)\n",
        "conctnttd_sub=subt1+subt2\n",
        "print(f\"sub rot nib equals {conctnttd_sub}\")\n",
        "\n",
        "\n",
        "#convert w0,const,subrot(w1) to int to cmpt w2\n",
        "w0_int= int(w0, 2)\n",
        "w2midconst_int = int(w2midconst, 2)\n",
        "conctnttd_sub_int = int(conctnttd_sub, 2)\n",
        "w2 = w0_int ^ w2midconst_int ^ conctnttd_sub_int\n",
        "print('w2 eqwals:', format(w2, '08b'))\n",
        "######################################################################################################### w2^\n",
        "#calclt w3=w1^w2\n",
        "w1_int= int(w1, 2)\n",
        "w3=w1_int^w2\n",
        "print('w3 eqwals:', format(w3, '08b'))\n",
        "######################################################################################################### w3^\n",
        "\n",
        "\n",
        "#w4= w2^ w4midconst^sub rot(w3)\n",
        "#rotw3\n",
        "rotated_W3 = ((w3 << 4) | (w3 >> 4)) & 0b11111111\n",
        "rotated_W3_binary = format(rotated_W3, '08b')\n",
        "\n",
        "#now lets find its sub in sub tabl\n",
        "first_half = rotated_W3_binary[:4]\n",
        "second_half = rotated_W3_binary[4:]\n",
        "\n",
        "\n",
        "\n",
        "#search for first half\n",
        "search_val1=first_half\n",
        "search_val2=second_half\n",
        "for row in range(len(subnibTBL)):\n",
        "    for col in [0, 2]:\n",
        "        if subnibTBL[row][col] == search_val1:\n",
        "            sr=row\n",
        "            sc=col\n",
        "            print(f\"Found frsthlf {search_val1} at ({row}, {col})\")\n",
        "            subt1=subnibTBL[sr][sc+1] \n",
        "        if subnibTBL[row][col] == search_val2:\n",
        "            sr=row\n",
        "            sc=col\n",
        "            print(f\"Found scndhlf {search_val2} at ({row}, {col})\")   \n",
        "            subt2=subnibTBL[sr][sc+1] \n",
        "\n",
        "\n",
        "\n",
        "conctnttd_sub=subt1+subt2\n",
        "print(f\"conctnttd_sub rttd w3 {conctnttd_sub} at ({row}, {col})\")   \n",
        "######################################################################################## sub rot ^^^^w3 ^^^\n",
        "\n",
        "#cnvrt const& sub rot w3 to int\n",
        "w4midconst_int = int(w4midconst, 2)\n",
        "conctnttd_sub_int = int(conctnttd_sub, 2)\n",
        "\n",
        "w4=w2^w4midconst_int^conctnttd_sub_int\n",
        "######################################################################################################### w4^\n",
        "\n",
        "#w5=w3^w4\n",
        "w5=w3^w4\n",
        "print('w5 eqwals:', format(w5, '08b'))\n",
        "######################################################################################################### w5^\n",
        "\n",
        "k0=key\n",
        "print(f\"k0 eqwals {k0} \")\n",
        "k1 = format(w2, '08b') + format(w3, '08b')\n",
        "print(f\"k1 eqwals {k1} \")\n",
        "k2=format(w4, '08b') + format(w5, '08b')\n",
        "print(f\"k2 eqwals {k2} \")\n",
        "####################################################################    k1,k2,k3^^^"
      ]
    },
    {
      "cell_type": "markdown",
      "id": "83b97084",
      "metadata": {
        "id": "83b97084"
      },
      "source": [
        "# Encryption"
      ]
    },
    {
      "cell_type": "code",
      "execution_count": 10,
      "id": "266681e5",
      "metadata": {
        "colab": {
          "base_uri": "https://localhost:8080/"
        },
        "id": "266681e5",
        "outputId": "89e529af-c367-48de-83fc-e9dc7084535f"
      },
      "outputs": [
        {
          "output_type": "stream",
          "name": "stdout",
          "text": [
            "rwnd1_input: 1001110111011101\n"
          ]
        }
      ],
      "source": [
        "# int(w1, 2) binary string to int\n",
        "# rwnd1_input = plntxt xor key\n",
        "\n",
        "rwnd1_input = int(plaintxt, 2)  ^ int(key, 2) \n",
        "print('rwnd1_input:', format(rwnd1_input, '08b'))"
      ]
    },
    {
      "cell_type": "markdown",
      "id": "60775bad",
      "metadata": {
        "id": "60775bad"
      },
      "source": [
        "# Round 1"
      ]
    },
    {
      "cell_type": "code",
      "execution_count": 11,
      "id": "4901a910",
      "metadata": {
        "colab": {
          "base_uri": "https://localhost:8080/"
        },
        "id": "4901a910",
        "outputId": "57bca618-f98c-4fbc-a04b-c8cc1b86ec73"
      },
      "outputs": [
        {
          "output_type": "stream",
          "name": "stdout",
          "text": [
            "part1: 1001\n",
            "part2: 1101\n",
            "part3: 1101\n",
            "part4: 1101\n",
            "Found part1 0010 \n",
            "Found part3 1110 \n",
            "Found part4 1110 \n",
            "Found part4 1110 \n",
            "s00: 2 \n",
            "s01: 14 \n",
            "s10: 14 \n",
            "s11: 14 \n",
            "m00: 1 \n",
            "m01: 4 \n",
            "m10: 4 \n",
            "m11: 1 \n",
            "frst mult: 2 \n",
            "scnd mult: d \n",
            "sumtn: 1111 \n",
            "frst mult: e \n",
            "scnd mult: d \n",
            "sumtn: 0011 \n",
            "frst mult: 8 \n",
            "scnd mult: e \n",
            "sumtn: 0110 \n",
            "frst mult: d \n",
            "scnd mult: e \n",
            "sumtn: 0011 \n",
            "r1 outpt: 1111011000110011 \n",
            "r2 input: 0010101100011011 \n"
          ]
        }
      ],
      "source": [
        "# split rwnd 1 input into 4 half to srch thm in sub tbl\n",
        "part1 = (rwnd1_input >> 12) & 0b1111\n",
        "part2 = (rwnd1_input >> 8) & 0b1111\n",
        "part3 = (rwnd1_input >> 4) & 0b1111\n",
        "part4 = rwnd1_input & 0b1111\n",
        "\n",
        "# Print the values of the four parts\n",
        "print('part1:', format(part1, '04b'))\n",
        "print('part2:', format(part2, '04b'))\n",
        "print('part3:', format(part3, '04b'))\n",
        "print('part4:', format(part4, '04b'))\n",
        "\n",
        "\n",
        "################# SUB NIB : find sub of each part in sub table\n",
        "\n",
        "for row in range(len(subnibTBL)):\n",
        "    for col in [0, 2]:\n",
        "        if subnibTBL[row][col] == format(part1, '04b'):\n",
        "            sr=row\n",
        "            sc=col\n",
        "            sub1=subnibTBL[sr][sc+1] \n",
        "            print(f\"Found part1 {sub1} \")  \n",
        "        if subnibTBL[row][col] == format(part2, '04b'):\n",
        "            sr=row\n",
        "            sc=col\n",
        "            sub2=subnibTBL[sr][sc+1] \n",
        "            print(f\"Found part3 {sub2} \")\n",
        "        if subnibTBL[row][col] == format(part3, '04b'):\n",
        "            sr=row\n",
        "            sc=col\n",
        "            sub3=subnibTBL[sr][sc+1] \n",
        "            print(f\"Found part4 {sub3} \")\n",
        "        if subnibTBL[row][col] == format(part4, '04b'):\n",
        "            sr=row\n",
        "            sc=col\n",
        "            sub4=subnibTBL[sr][sc+1] \n",
        "            print(f\"Found part4 {sub4} \")  \n",
        "#shift row\n",
        "s00=sub1\n",
        "s10=sub4\n",
        "s01=sub3\n",
        "s11=sub2\n",
        "\n",
        "\n",
        "# mix col\n",
        "\n",
        "s=[\n",
        "    [s00,s01],\n",
        "    [s10,s11]\n",
        "]\n",
        "\n",
        "# cnvrt all S & M arry elmnts \n",
        "s00=int(s00,2)\n",
        "s01=int(s01,2)\n",
        "s10=int(s10,2)\n",
        "s11=int(s11,2)\n",
        "m00=int(M[0][0],2)\n",
        "m01=int(M[0][1],2)\n",
        "m10=int(M[1][0],2)\n",
        "m11=int(M[1][1],2)\n",
        "\n",
        "\n",
        "# create a dictionary that maps hexadecimal chars to their corresponding ints\n",
        "hex_int = {\"1\":1,\"2\":2,\"3\":3,\"4\":4,\"5\":5,\"6\":6,\"7\":7,\"8\":8,\"9\":9,\"a\":10, \"b\":11, \"c\":12 ,  \"d\":13,  \"e\":14,  \"f\":15}\n",
        "to_bin = {\n",
        "    '0': '0000',\n",
        "    '1': '0001',\n",
        "    '2': '0010',\n",
        "    '3': '0011',\n",
        "    '4': '0100',\n",
        "    '5': '0101',\n",
        "    '6': '0110',\n",
        "    '7': '0111',\n",
        "    '8': '1000',\n",
        "    '9': '1001',\n",
        "    'a': '1010',\n",
        "    'b': '1011',\n",
        "    'c': '1100',\n",
        "    'd': '1101',\n",
        "    'e': '1110',\n",
        "    'f': '1111'\n",
        "}\n",
        "\n",
        "\n",
        "print(f\"s00: {s00} \")\n",
        "print(f\"s01: {s01} \")\n",
        "print(f\"s10: {s10} \")\n",
        "print(f\"s11: {s11} \")\n",
        "\n",
        "print(f\"m00: {m00} \")\n",
        "print(f\"m01: {m01} \")\n",
        "print(f\"m10: {m10} \")\n",
        "print(f\"m11: {m11} \")    \n",
        "\n",
        "#s00 dash= m00 x s00 + m01 x s10\n",
        "#clclt 1st mltplktn then 2nd mltplktn then all summtn\n",
        "#its all a srch tsk in mult and add tbl\n",
        "st_mlt= mult_table[m00-1][s00-1]\n",
        "nd_mlt= mult_table[m01-1][s10-1]\n",
        "print(f\"frst mult: {st_mlt} \")   \n",
        "print(f\"scnd mult: {nd_mlt} \")\n",
        "st_mlt=hex_int[st_mlt]\n",
        "nd_mlt=hex_int[nd_mlt]    \n",
        "sumtn=add_table[st_mlt][nd_mlt]\n",
        "sumtn=to_bin[sumtn]\n",
        "print(f\"sumtn: {sumtn} \")\n",
        "s00_dash=sumtn\n",
        "#s01 dash= m00 x s10 + m01 x s11\n",
        "st_mlt= mult_table[m00-1][s01-1]\n",
        "nd_mlt= mult_table[m01-1][s11-1]\n",
        "print(f\"frst mult: {st_mlt} \")   \n",
        "print(f\"scnd mult: {nd_mlt} \")\n",
        "st_mlt=hex_int[st_mlt]\n",
        "nd_mlt=hex_int[nd_mlt]    \n",
        "sumtn=add_table[st_mlt][nd_mlt]\n",
        "sumtn=to_bin[sumtn]\n",
        "print(f\"sumtn: {sumtn} \")\n",
        "s01_dash=sumtn\n",
        "#s10 dash= m10 x s00 + m11 x s10\n",
        "st_mlt= mult_table[m10-1][s00-1]\n",
        "nd_mlt= mult_table[m11-1][s10-1]\n",
        "print(f\"frst mult: {st_mlt} \")   \n",
        "print(f\"scnd mult: {nd_mlt} \")\n",
        "st_mlt=hex_int[st_mlt]\n",
        "nd_mlt=hex_int[nd_mlt]    \n",
        "sumtn=add_table[st_mlt][nd_mlt]\n",
        "sumtn=to_bin[sumtn]\n",
        "print(f\"sumtn: {sumtn} \")\n",
        "s10_dash=sumtn\n",
        "#s11 dash= m10 x s01 + m11 x s11\n",
        "st_mlt= mult_table[m10-1][s01-1]\n",
        "nd_mlt= mult_table[m11-1][s11-1]\n",
        "print(f\"frst mult: {st_mlt} \")   \n",
        "print(f\"scnd mult: {nd_mlt} \")\n",
        "st_mlt=hex_int[st_mlt]\n",
        "nd_mlt=hex_int[nd_mlt]    \n",
        "sumtn=add_table[st_mlt][nd_mlt]\n",
        "sumtn=to_bin[sumtn]\n",
        "print(f\"sumtn: {sumtn} \")\n",
        "s11_dash=sumtn\n",
        "################################################### round1_output\n",
        "round1_output=s00_dash+s10_dash+s01_dash+s11_dash\n",
        "print(f\"r1 outpt: {round1_output} \")\n",
        "#################################################### r2_input = round1_output xor k1\n",
        "r2_input = int(round1_output, 2) ^ int(k1, 2)\n",
        "print(f\"r2 input: {format(r2_input, '016b')} \")"
      ]
    },
    {
      "cell_type": "markdown",
      "source": [
        "# ***Round 2***"
      ],
      "metadata": {
        "id": "H5M0NPWG6su0"
      },
      "id": "H5M0NPWG6su0"
    },
    {
      "cell_type": "code",
      "source": [
        "#   sub nib#### :take each 4 bits of the r2 input & fint their crspndng in subtable\n",
        "#split into 4\n",
        "r2_input_str = format(r2_input, '016b') # convert to 16-bit binary string\n",
        "frst = r2_input_str[0:4] # extract first 4 bits\n",
        "scnd = r2_input_str[4:8] # extract second 4 bits\n",
        "thrd = r2_input_str[8:12] # extract third 4 bits\n",
        "frth = r2_input_str[12:16] # extract fourth 4 bits\n",
        "\n",
        "\n",
        "\n",
        "\n",
        "################# STEP1 find sub of each part in sub table\n",
        "\n",
        "for row in range(len(subnibTBL)):\n",
        "    for col in [0, 2]:\n",
        "        if subnibTBL[row][col] == frst:\n",
        "            sr=row\n",
        "            sc=col\n",
        "            sub1=subnibTBL[sr][sc+1] \n",
        "            print(f\"Found frst {sub1} \")  \n",
        "        if subnibTBL[row][col] == scnd:\n",
        "            sr=row\n",
        "            sc=col\n",
        "            sub2=subnibTBL[sr][sc+1] \n",
        "            print(f\"Found scnd {sub2} \")\n",
        "        if subnibTBL[row][col] == thrd:\n",
        "            sr=row\n",
        "            sc=col\n",
        "            sub3=subnibTBL[sr][sc+1] \n",
        "            print(f\"Found thrd {sub3} \")\n",
        "        if subnibTBL[row][col] == frth:\n",
        "            sr=row\n",
        "            sc=col\n",
        "            sub4=subnibTBL[sr][sc+1] \n",
        "            print(f\"Found frth {sub4} \")  \n",
        "#shift row\n",
        "s00=sub1\n",
        "s10=sub4\n",
        "s01=sub3\n",
        "s11=sub2\n",
        "\n",
        "cncttntd= s00+s10+s01+s11\n",
        "print(cncttntd)\n",
        "cipher = int(cncttntd,2)^int(k2,2)\n",
        "print(f\"cipher txt: {format(cipher, '016b')} \")"
      ],
      "metadata": {
        "id": "pmDOuQVlCP2t",
        "colab": {
          "base_uri": "https://localhost:8080/"
        },
        "outputId": "e94d4c87-5848-4d00-df0e-69dddc0d1514"
      },
      "id": "pmDOuQVlCP2t",
      "execution_count": 12,
      "outputs": [
        {
          "output_type": "stream",
          "name": "stdout",
          "text": [
            "Found thrd 0100 \n",
            "Found frst 1010 \n",
            "Found scnd 0011 \n",
            "Found frth 0011 \n",
            "1010001101000011\n",
            "cipher txt: 0010010011101100 \n"
          ]
        }
      ]
    }
  ],
  "metadata": {
    "colab": {
      "provenance": []
    },
    "kernelspec": {
      "display_name": "Python 3 (ipykernel)",
      "language": "python",
      "name": "python3"
    },
    "language_info": {
      "codemirror_mode": {
        "name": "ipython",
        "version": 3
      },
      "file_extension": ".py",
      "mimetype": "text/x-python",
      "name": "python",
      "nbconvert_exporter": "python",
      "pygments_lexer": "ipython3",
      "version": "3.9.13"
    }
  },
  "nbformat": 4,
  "nbformat_minor": 5
}